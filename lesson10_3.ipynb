{
 "cells": [
  {
   "cell_type": "code",
   "execution_count": 1,
   "metadata": {},
   "outputs": [
    {
     "data": {
      "text/plain": [
       "('[78,95,68,72,65]', '[99,66,21,33,66]', '[78,48,55,55,65]')"
      ]
     },
     "execution_count": 1,
     "metadata": {},
     "output_type": "execute_result"
    }
   ],
   "source": [
    "#2維list\n",
    "students=['[78,95,68,72,65]','[99,66,21,33,66]','[78,48,55,55,65]']\n",
    "students[0],students[1],students[2]"
   ]
  },
  {
   "cell_type": "code",
   "execution_count": 2,
   "metadata": {},
   "outputs": [
    {
     "name": "stdout",
     "output_type": "stream",
     "text": [
      "[78,95,68,72,65]\n",
      "[99,66,21,33,66]\n",
      "[78,48,55,55,65]\n"
     ]
    }
   ],
   "source": [
    "for students in students:\n",
    "    print(students)"
   ]
  },
  {
   "cell_type": "code",
   "execution_count": 3,
   "metadata": {},
   "outputs": [
    {
     "data": {
      "text/plain": [
       "[[63, 99, 95, 96, 51],\n",
       " [52, 51, 94, 90, 68],\n",
       " [51, 96, 55, 95, 67],\n",
       " [96, 55, 83, 52, 95],\n",
       " [100, 72, 85, 57, 51],\n",
       " [80, 91, 76, 89, 50],\n",
       " [88, 50, 67, 60, 58],\n",
       " [100, 55, 100, 72, 77],\n",
       " [79, 97, 55, 80, 53],\n",
       " [78, 91, 70, 97, 80],\n",
       " [72, 76, 84, 60, 67],\n",
       " [69, 57, 86, 89, 81],\n",
       " [53, 74, 64, 94, 59],\n",
       " [86, 84, 100, 83, 78],\n",
       " [70, 85, 93, 62, 54],\n",
       " [86, 97, 80, 52, 91],\n",
       " [68, 100, 99, 52, 85],\n",
       " [70, 90, 70, 67, 92],\n",
       " [75, 67, 55, 66, 75],\n",
       " [69, 78, 76, 89, 98],\n",
       " [74, 82, 54, 63, 92],\n",
       " [73, 61, 71, 57, 86],\n",
       " [50, 56, 79, 65, 74],\n",
       " [63, 76, 60, 81, 85],\n",
       " [98, 85, 68, 90, 72],\n",
       " [100, 76, 96, 70, 71],\n",
       " [75, 88, 71, 54, 78],\n",
       " [63, 93, 86, 90, 60],\n",
       " [64, 63, 87, 87, 56],\n",
       " [87, 63, 93, 73, 88],\n",
       " [73, 51, 95, 100, 67],\n",
       " [84, 81, 60, 50, 94],\n",
       " [97, 67, 80, 86, 74],\n",
       " [63, 77, 90, 90, 64],\n",
       " [71, 94, 57, 85, 91],\n",
       " [64, 67, 78, 80, 84],\n",
       " [63, 80, 98, 52, 64],\n",
       " [64, 79, 97, 89, 63],\n",
       " [95, 51, 91, 91, 95],\n",
       " [67, 52, 71, 64, 93],\n",
       " [65, 64, 88, 98, 59],\n",
       " [85, 92, 83, 76, 89],\n",
       " [72, 71, 50, 75, 56],\n",
       " [52, 87, 85, 70, 95],\n",
       " [98, 91, 85, 68, 59],\n",
       " [92, 87, 76, 61, 76],\n",
       " [64, 96, 60, 72, 95],\n",
       " [80, 90, 56, 73, 55],\n",
       " [82, 99, 78, 94, 73],\n",
       " [54, 72, 100, 77, 61]]"
      ]
     },
     "execution_count": 3,
     "metadata": {},
     "output_type": "execute_result"
    }
   ],
   "source": [
    "import random\n",
    "def get_score()->list:\n",
    "    score=[]\n",
    "    for i in range(5):\n",
    "        score.append(random.randint(50,100))\n",
    "    return score\n",
    "\n",
    "students=[]\n",
    "for i in range(50):\n",
    "    scores=get_score()\n",
    "    students.append(scores)\n",
    "students"
   ]
  }
 ],
 "metadata": {
  "kernelspec": {
   "display_name": "Python 3",
   "language": "python",
   "name": "python3"
  },
  "language_info": {
   "codemirror_mode": {
    "name": "ipython",
    "version": 3
   },
   "file_extension": ".py",
   "mimetype": "text/x-python",
   "name": "python",
   "nbconvert_exporter": "python",
   "pygments_lexer": "ipython3",
   "version": "3.10.12"
  },
  "orig_nbformat": 4
 },
 "nbformat": 4,
 "nbformat_minor": 2
}
