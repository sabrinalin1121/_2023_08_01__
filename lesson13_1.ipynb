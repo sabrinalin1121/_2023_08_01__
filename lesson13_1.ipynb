{
 "cells": [
  {
   "cell_type": "code",
   "execution_count": 1,
   "metadata": {},
   "outputs": [],
   "source": [
    "class Student:\n",
    "    pass"
   ]
  },
  {
   "cell_type": "code",
   "execution_count": 14,
   "metadata": {},
   "outputs": [],
   "source": [
    "stu1=Student()\n",
    "stu1.name=\"林柔均\"\n",
    "stu1.chinese=89\n",
    "stu1.english=99\n",
    "stu1.math=72"
   ]
  },
  {
   "cell_type": "code",
   "execution_count": 3,
   "metadata": {},
   "outputs": [],
   "source": [
    "stu2=Student()\n",
    "stu2.name=\"楊xx\"\n",
    "stu2.chinese=99\n",
    "stu2.english=99\n",
    "stu2.math=99"
   ]
  },
  {
   "cell_type": "code",
   "execution_count": 4,
   "metadata": {},
   "outputs": [
    {
     "data": {
      "text/plain": [
       "('林柔均', '楊xx')"
      ]
     },
     "execution_count": 4,
     "metadata": {},
     "output_type": "execute_result"
    }
   ],
   "source": [
    "stu1.name,stu2.name"
   ]
  },
  {
   "cell_type": "code",
   "execution_count": 9,
   "metadata": {},
   "outputs": [],
   "source": [
    "class Student:\n",
    "    def _init__(self,name:str,chinese:int,english:int,math:int):\n",
    "      #實體的attribute\n",
    "      self.name=name\n",
    "      self.chinese=chinese\n",
    "      self.english=english\n",
    "      self.math=math\n",
    "#實體方法method\n",
    "    def total(self)->int:\n",
    "       return self.chinese+self.english+self.math\n",
    "    \n",
    "    #建立property->類似method,沒有參數,一定傳出一個值\n",
    "    @priperty\n",
    "    def average(self)->float:\n",
    "       return self.total()/3.0\n",
    "    \n",
    "    def __repr__(self):\n",
    "       return f'我是student實體,我的name:{self.name}'"
   ]
  },
  {
   "cell_type": "code",
   "execution_count": null,
   "metadata": {},
   "outputs": [],
   "source": []
  },
  {
   "cell_type": "code",
   "execution_count": 11,
   "metadata": {},
   "outputs": [],
   "source": [
    "stu1=Student()"
   ]
  },
  {
   "cell_type": "code",
   "execution_count": 15,
   "metadata": {},
   "outputs": [
    {
     "ename": "TypeError",
     "evalue": "Student() takes no arguments",
     "output_type": "error",
     "traceback": [
      "\u001b[0;31m---------------------------------------------------------------------------\u001b[0m",
      "\u001b[0;31mTypeError\u001b[0m                                 Traceback (most recent call last)",
      "Cell \u001b[0;32mIn[15], line 1\u001b[0m\n\u001b[0;32m----> 1\u001b[0m stu1\u001b[39m=\u001b[39mStudent(\u001b[39m\"\u001b[39;49m\u001b[39m林柔均\u001b[39;49m\u001b[39m\"\u001b[39;49m,\u001b[39m89\u001b[39;49m,\u001b[39m99\u001b[39;49m,\u001b[39m72\u001b[39;49m)\n\u001b[1;32m      2\u001b[0m display((stu1\u001b[39m.\u001b[39mname,stu1\u001b[39m.\u001b[39mchinese,stu1\u001b[39m.\u001b[39menglish,stu1\u001b[39m.\u001b[39mmath))\n\u001b[1;32m      3\u001b[0m stu1\u001b[39m.\u001b[39mtotal()\n",
      "\u001b[0;31mTypeError\u001b[0m: Student() takes no arguments"
     ]
    }
   ],
   "source": [
    "stu1=Student(\"林柔均\",89,99,72)\n",
    "display((stu1.name,stu1.chinese,stu1.english,stu1.math))\n",
    "stu1.total(),stu1.average"
   ]
  },
  {
   "cell_type": "code",
   "execution_count": null,
   "metadata": {},
   "outputs": [],
   "source": [
    "stu2=Student(name=\"楊xx\",chinese=99,english=99,math=99)\n",
    "display((stu1.name,stu1.chinese,stu1.english,stu1.math))\n",
    "stu1.total(),stu1.average"
   ]
  }
 ],
 "metadata": {
  "kernelspec": {
   "display_name": "Python 3",
   "language": "python",
   "name": "python3"
  },
  "language_info": {
   "codemirror_mode": {
    "name": "ipython",
    "version": 3
   },
   "file_extension": ".py",
   "mimetype": "text/x-python",
   "name": "python",
   "nbconvert_exporter": "python",
   "pygments_lexer": "ipython3",
   "version": "3.10.12"
  },
  "orig_nbformat": 4
 },
 "nbformat": 4,
 "nbformat_minor": 2
}
