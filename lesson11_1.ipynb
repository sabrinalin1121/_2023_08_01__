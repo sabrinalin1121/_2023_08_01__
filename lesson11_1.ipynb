{
 "cells": [
  {
   "cell_type": "code",
   "execution_count": 10,
   "metadata": {},
   "outputs": [
    {
     "name": "stdout",
     "output_type": "stream",
     "text": [
      "['盧文啟', '陳孝邦', '林珍旺', '陳冠竹', '葉軍仰']\n"
     ]
    },
    {
     "data": {
      "text/plain": [
       "[['盧文啟', 91, 54, 95, 98, 91],\n",
       " ['陳孝邦', 79, 96, 60, 87, 75],\n",
       " ['林珍旺', 60, 52, 50, 96, 58],\n",
       " ['陳冠竹', 78, 64, 58, 61, 100],\n",
       " ['葉軍仰', 86, 100, 72, 50, 85]]"
      ]
     },
     "execution_count": 10,
     "metadata": {},
     "output_type": "execute_result"
    }
   ],
   "source": [
    "import random\n",
    "def get_score()->list:\n",
    "    score=[]\n",
    "    for i in range(5):\n",
    "        score.append(random.randint(50,100))\n",
    "    return score\n",
    "\n",
    "nums_int=int(input(\"請輸入學生數:\"))\n",
    "#取得30個姓名\n",
    "with open('names.txt',encoding='utf-8',newline='')as file:\n",
    "    names_str=file.read()\n",
    "    all_names_list=names_str.split(sep=\"\\n\")\n",
    "    names_list=random.choices(all_names_list,k=nums_int)#取出一定數量的名字\n",
    "print(names_list)\n",
    "students=[]\n",
    "for i in range(nums_int):\n",
    "    scores=get_score()\n",
    "    new_list=[names_list[i]]+scores\n",
    "    students.append(new_list)\n",
    "students"
   ]
  },
  {
   "cell_type": "code",
   "execution_count": 7,
   "metadata": {},
   "outputs": [
    {
     "data": {
      "text/plain": [
       "['林麗萍', 75, 55, 74, 73, 74]"
      ]
     },
     "execution_count": 7,
     "metadata": {},
     "output_type": "execute_result"
    }
   ],
   "source": [
    "['林麗萍']+[75, 55, 74, 73, 74]"
   ]
  }
 ],
 "metadata": {
  "kernelspec": {
   "display_name": "Python 3",
   "language": "python",
   "name": "python3"
  },
  "language_info": {
   "codemirror_mode": {
    "name": "ipython",
    "version": 3
   },
   "file_extension": ".py",
   "mimetype": "text/x-python",
   "name": "python",
   "nbconvert_exporter": "python",
   "pygments_lexer": "ipython3",
   "version": "3.10.12"
  },
  "orig_nbformat": 4
 },
 "nbformat": 4,
 "nbformat_minor": 2
}
