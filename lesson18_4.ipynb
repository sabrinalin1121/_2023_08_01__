{
 "cells": [
  {
   "cell_type": "code",
   "execution_count": 9,
   "metadata": {},
   "outputs": [
    {
     "ename": "ModuleNotFoundError",
     "evalue": "No module named 'requests'",
     "output_type": "error",
     "traceback": [
      "\u001b[0;31m---------------------------------------------------------------------------\u001b[0m",
      "\u001b[0;31mModuleNotFoundError\u001b[0m                       Traceback (most recent call last)",
      "\u001b[1;32m/workspaces/_2023_08_01__/lesson18_4.ipynb 儲存格 1\u001b[0m line \u001b[0;36m1\n\u001b[0;32m----> <a href='vscode-notebook-cell://codespaces%2Bsabrinalin1121-automatic-space-spork-r4grjvgv65w9hx5xq/workspaces/_2023_08_01__/lesson18_4.ipynb#W0sdnNjb2RlLXJlbW90ZQ%3D%3D?line=0'>1</a>\u001b[0m \u001b[39mimport\u001b[39;00m \u001b[39mrequests\u001b[39;00m\n\u001b[1;32m      <a href='vscode-notebook-cell://codespaces%2Bsabrinalin1121-automatic-space-spork-r4grjvgv65w9hx5xq/workspaces/_2023_08_01__/lesson18_4.ipynb#W0sdnNjb2RlLXJlbW90ZQ%3D%3D?line=1'>2</a>\u001b[0m url \u001b[39m=\u001b[39m \u001b[39m'\u001b[39m\u001b[39mhttps://sheethub.com/data.gov.tw/\u001b[39m\u001b[39m%E\u001b[39;00m\u001b[39m5\u001b[39m\u001b[39m%90%\u001b[39;00m\u001b[39m84\u001b[39m\u001b[39m%E\u001b[39;00m\u001b[39m9\u001b[39m\u001b[39m%84%\u001b[39;00m\u001b[39m89\u001b[39m\u001b[39m%E\u001b[39;00m\u001b[39m9\u001b[39m\u001b[39m%8E\u001b[39;00m\u001b[39m%\u001b[39m\u001b[39mAE\u001b[39m\u001b[39m%E\u001b[39;00m\u001b[39m5\u001b[39m\u001b[39m%\u001b[39m\u001b[39mB8\u001b[39m\u001b[39m%82%\u001b[39;00m\u001b[39mE5\u001b[39m\u001b[39m%\u001b[39m\u001b[39m8D\u001b[39m\u001b[39m%80%\u001b[39;00m\u001b[39mE4\u001b[39m\u001b[39m%\u001b[39m\u001b[39mBA\u001b[39m\u001b[39m%\u001b[39m\u001b[39mBA\u001b[39m\u001b[39m%E\u001b[39;00m\u001b[39m5\u001b[39m\u001b[39m%8F\u001b[39;00m\u001b[39m%\u001b[39m\u001b[39mA3\u001b[39m\u001b[39m%E\u001b[39;00m\u001b[39m5\u001b[39m\u001b[39m%\u001b[39m\u001b[39mAF\u001b[39m\u001b[39m%86%\u001b[39;00m\u001b[39mE5\u001b[39m\u001b[39m%\u001b[39m\u001b[39mBA\u001b[39m\u001b[39m%\u001b[39m\u001b[39mA6?format=csv\u001b[39m\u001b[39m'\u001b[39m\n\u001b[1;32m      <a href='vscode-notebook-cell://codespaces%2Bsabrinalin1121-automatic-space-spork-r4grjvgv65w9hx5xq/workspaces/_2023_08_01__/lesson18_4.ipynb#W0sdnNjb2RlLXJlbW90ZQ%3D%3D?line=3'>4</a>\u001b[0m response \u001b[39m=\u001b[39m requests\u001b[39m.\u001b[39mrequest(\u001b[39m'\u001b[39m\u001b[39mGET\u001b[39m\u001b[39m'\u001b[39m,url)\n",
      "\u001b[0;31mModuleNotFoundError\u001b[0m: No module named 'requests'"
     ]
    }
   ],
   "source": [
    "import requests\n",
    "url = 'https://sheethub.com/data.gov.tw/%E5%90%84%E9%84%89%E9%8E%AE%E5%B8%82%E5%8D%80%E4%BA%BA%E5%8F%A3%E5%AF%86%E5%BA%A6?format=csv'\n",
    "\n",
    "response = requests.request('GET',url)\n",
    "if response.ok:\n",
    "    print(\"下載成功\")"
   ]
  },
  {
   "cell_type": "code",
   "execution_count": 10,
   "metadata": {},
   "outputs": [
    {
     "ename": "NameError",
     "evalue": "name 'response' is not defined",
     "output_type": "error",
     "traceback": [
      "\u001b[0;31m---------------------------------------------------------------------------\u001b[0m",
      "\u001b[0;31mNameError\u001b[0m                                 Traceback (most recent call last)",
      "\u001b[1;32m/workspaces/_2023_08_01__/lesson18_4.ipynb 儲存格 2\u001b[0m line \u001b[0;36m4\n\u001b[1;32m      <a href='vscode-notebook-cell://codespaces%2Bsabrinalin1121-automatic-space-spork-r4grjvgv65w9hx5xq/workspaces/_2023_08_01__/lesson18_4.ipynb#W1sdnNjb2RlLXJlbW90ZQ%3D%3D?line=0'>1</a>\u001b[0m \u001b[39mfrom\u001b[39;00m \u001b[39mio\u001b[39;00m \u001b[39mimport\u001b[39;00m StringIO\n\u001b[1;32m      <a href='vscode-notebook-cell://codespaces%2Bsabrinalin1121-automatic-space-spork-r4grjvgv65w9hx5xq/workspaces/_2023_08_01__/lesson18_4.ipynb#W1sdnNjb2RlLXJlbW90ZQ%3D%3D?line=1'>2</a>\u001b[0m \u001b[39mimport\u001b[39;00m \u001b[39mcsv\u001b[39;00m\n\u001b[0;32m----> <a href='vscode-notebook-cell://codespaces%2Bsabrinalin1121-automatic-space-spork-r4grjvgv65w9hx5xq/workspaces/_2023_08_01__/lesson18_4.ipynb#W1sdnNjb2RlLXJlbW90ZQ%3D%3D?line=3'>4</a>\u001b[0m file \u001b[39m=\u001b[39m StringIO(response\u001b[39m.\u001b[39mtext)\n\u001b[1;32m      <a href='vscode-notebook-cell://codespaces%2Bsabrinalin1121-automatic-space-spork-r4grjvgv65w9hx5xq/workspaces/_2023_08_01__/lesson18_4.ipynb#W1sdnNjb2RlLXJlbW90ZQ%3D%3D?line=4'>5</a>\u001b[0m csv_reader \u001b[39m=\u001b[39m csv\u001b[39m.\u001b[39mreader(file)\n\u001b[1;32m      <a href='vscode-notebook-cell://codespaces%2Bsabrinalin1121-automatic-space-spork-r4grjvgv65w9hx5xq/workspaces/_2023_08_01__/lesson18_4.ipynb#W1sdnNjb2RlLXJlbW90ZQ%3D%3D?line=5'>6</a>\u001b[0m data \u001b[39m=\u001b[39m \u001b[39mlist\u001b[39m(csv_reader)\n",
      "\u001b[0;31mNameError\u001b[0m: name 'response' is not defined"
     ]
    }
   ],
   "source": [
    "from io import StringIO\n",
    "import csv\n",
    "\n",
    "file = StringIO(response.text)\n",
    "csv_reader = csv.reader(file)\n",
    "data = list(csv_reader)\n",
    "data"
   ]
  },
  {
   "cell_type": "code",
   "execution_count": null,
   "metadata": {},
   "outputs": [],
   "source": [
    "import pandas as pd\n",
    "\n",
    "frame = pd.DataFrame(data)\n",
    "frame"
   ]
  },
  {
   "cell_type": "code",
   "execution_count": null,
   "metadata": {},
   "outputs": [],
   "source": [
    "frame.columns = frame.iloc[0]\n",
    "frame1 = frame.drop(index=0)\n",
    "frame1"
   ]
  },
  {
   "cell_type": "code",
   "execution_count": null,
   "metadata": {},
   "outputs": [],
   "source": [
    "frame1.info()"
   ]
  },
  {
   "cell_type": "code",
   "execution_count": null,
   "metadata": {},
   "outputs": [],
   "source": [
    "frame1.index = frame1['區域別']\n",
    "frame1[['年底人口數','土地面積','人口密度']]"
   ]
  },
  {
   "cell_type": "code",
   "execution_count": null,
   "metadata": {},
   "outputs": [],
   "source": [
    "frame2 = frame1.reindex(columns=['年底人口數','土地面積','人口密度'])\n",
    "frame2"
   ]
  },
  {
   "cell_type": "code",
   "execution_count": null,
   "metadata": {},
   "outputs": [],
   "source": [
    "frame2.info()"
   ]
  },
  {
   "cell_type": "code",
   "execution_count": null,
   "metadata": {},
   "outputs": [],
   "source": [
    "frame2[frame2['年底人口數'] == \"…\"]"
   ]
  },
  {
   "cell_type": "code",
   "execution_count": 11,
   "metadata": {},
   "outputs": [
    {
     "ename": "NameError",
     "evalue": "name 'frame2' is not defined",
     "output_type": "error",
     "traceback": [
      "\u001b[0;31m---------------------------------------------------------------------------\u001b[0m",
      "\u001b[0;31mNameError\u001b[0m                                 Traceback (most recent call last)",
      "\u001b[1;32m/workspaces/_2023_08_01__/lesson18_4.ipynb 儲存格 10\u001b[0m line \u001b[0;36m1\n\u001b[0;32m----> <a href='vscode-notebook-cell://codespaces%2Bsabrinalin1121-automatic-space-spork-r4grjvgv65w9hx5xq/workspaces/_2023_08_01__/lesson18_4.ipynb#X12sdnNjb2RlLXJlbW90ZQ%3D%3D?line=0'>1</a>\u001b[0m frame3 \u001b[39m=\u001b[39m frame2\u001b[39m.\u001b[39mdrop(index\u001b[39m=\u001b[39m[\u001b[39m'\u001b[39m\u001b[39m東沙群島\u001b[39m\u001b[39m'\u001b[39m,\u001b[39m'\u001b[39m\u001b[39m南沙群島\u001b[39m\u001b[39m'\u001b[39m])\n\u001b[1;32m      <a href='vscode-notebook-cell://codespaces%2Bsabrinalin1121-automatic-space-spork-r4grjvgv65w9hx5xq/workspaces/_2023_08_01__/lesson18_4.ipynb#X12sdnNjb2RlLXJlbW90ZQ%3D%3D?line=1'>2</a>\u001b[0m frame3\n",
      "\u001b[0;31mNameError\u001b[0m: name 'frame2' is not defined"
     ]
    }
   ],
   "source": [
    "frame3 = frame2.drop(index=['東沙群島','南沙群島'])\n",
    "frame3"
   ]
  },
  {
   "cell_type": "code",
   "execution_count": null,
   "metadata": {},
   "outputs": [],
   "source": [
    "frame3['年底人口數'] = frame3['年底人口數'].astype(int)"
   ]
  },
  {
   "cell_type": "code",
   "execution_count": null,
   "metadata": {},
   "outputs": [],
   "source": [
    "frame3['土地面積'] = frame3['土地面積'].astype(float)"
   ]
  },
  {
   "cell_type": "code",
   "execution_count": null,
   "metadata": {},
   "outputs": [],
   "source": [
    "frame3['人口密度'] = frame3['人口密度'].astype(int)"
   ]
  },
  {
   "cell_type": "code",
   "execution_count": null,
   "metadata": {},
   "outputs": [],
   "source": [
    "display(frame3)\n",
    "frame3.info()"
   ]
  },
  {
   "cell_type": "code",
   "execution_count": null,
   "metadata": {},
   "outputs": [],
   "source": []
  }
 ],
 "metadata": {
  "kernelspec": {
   "display_name": "Python 3",
   "language": "python",
   "name": "python3"
  },
  "language_info": {
   "codemirror_mode": {
    "name": "ipython",
    "version": 3
   },
   "file_extension": ".py",
   "mimetype": "text/x-python",
   "name": "python",
   "nbconvert_exporter": "python",
   "pygments_lexer": "ipython3",
   "version": "3.10.12"
  },
  "orig_nbformat": 4
 },
 "nbformat": 4,
 "nbformat_minor": 2
}
