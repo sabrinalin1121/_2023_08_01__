{
 "cells": [
  {
   "cell_type": "code",
   "execution_count": 1,
   "metadata": {},
   "outputs": [
    {
     "ename": "SyntaxError",
     "evalue": "invalid syntax (3255168590.py, line 2)",
     "output_type": "error",
     "traceback": [
      "\u001b[0;36m  Cell \u001b[0;32mIn[1], line 2\u001b[0;36m\u001b[0m\n\u001b[0;31m    det scores(chinese)\u001b[0m\n\u001b[0m        ^\u001b[0m\n\u001b[0;31mSyntaxError\u001b[0m\u001b[0;31m:\u001b[0m invalid syntax\n"
     ]
    }
   ],
   "source": [
    "#參數名稱default值\n",
    "def scores(chinese,english,math):\n",
    "    print(f\"國文:{chinese},英文:{english},數學:{math}\")\n"
   ]
  },
  {
   "cell_type": "code",
   "execution_count": null,
   "metadata": {},
   "outputs": [],
   "source": [
    "def scores1(chinese,english=60,math=60):\n",
    "    print(f\"國文:{chinese},英文:{english},數學:{math}\")\n",
    "\n",
    "scores1(89)\n",
    "scores1(90,math=89)\n",
    "scores1(75,math=45,english=95)"
   ]
  },
  {
   "cell_type": "code",
   "execution_count": null,
   "metadata": {},
   "outputs": [],
   "source": [
    "def print_prime(frint,end):\n",
    "    print(f\"1到{end}的值數是:\")\n",
    "    if frint<2:\n",
    "        frint=2\n",
    "    for num in range(frint,end+1):  \n",
    "        is_prime=True\n",
    "        for i in range(2,num):\n",
    "           if num%i==0:\n",
    "               is_prime=False\n",
    "        if is_prime:\n",
    "            print(f\"{num}\",end=\" \")\n",
    "\n",
    "\n",
    "f=int(input(\"請輸入first值:\"))\n",
    "e=int(input(\"請輸入end值:\"))\n",
    "\n",
    "print_prime(f,e)"
   ]
  },
  {
   "cell_type": "code",
   "execution_count": 2,
   "metadata": {},
   "outputs": [
    {
     "name": "stdout",
     "output_type": "stream",
     "text": [
      "400\n"
     ]
    }
   ],
   "source": [
    "def add(frint,second):\n",
    "    return frint+second\n",
    "\n",
    "total=add(150,250)\n",
    "print(total)"
   ]
  },
  {
   "cell_type": "code",
   "execution_count": 3,
   "metadata": {},
   "outputs": [
    {
     "data": {
      "text/plain": [
       "23"
      ]
     },
     "execution_count": 3,
     "metadata": {},
     "output_type": "execute_result"
    }
   ],
   "source": [
    "#python3.7板就有支援\n",
    "#參數和傳出值，型別的提醒\n",
    "#這只是提醒，可有可無\n",
    "def add1(frint,second):\n",
    "    return frint+second\n",
    "total1=add1(8,15)\n",
    "total1"
   ]
  },
  {
   "cell_type": "code",
   "execution_count": null,
   "metadata": {},
   "outputs": [],
   "source": [
    "def add2(frint:int|float,second:int|float)->int|float:\n",
    "    return frint+second\n",
    "\n",
    "\n",
    "total2=add2(56,78.9)\n",
    "total2"
   ]
  },
  {
   "cell_type": "code",
   "execution_count": null,
   "metadata": {},
   "outputs": [],
   "source": [
    "print(1,2,3'a','b','c',32.1,92.8,sep='-')"
   ]
  },
  {
   "cell_type": "code",
   "execution_count": null,
   "metadata": {},
   "outputs": [],
   "source": [
    "print(1,2,3,'a','b','c',32)"
   ]
  }
 ],
 "metadata": {
  "kernelspec": {
   "display_name": "Python 3",
   "language": "python",
   "name": "python3"
  },
  "language_info": {
   "codemirror_mode": {
    "name": "ipython",
    "version": 3
   },
   "file_extension": ".py",
   "mimetype": "text/x-python",
   "name": "python",
   "nbconvert_exporter": "python",
   "pygments_lexer": "ipython3",
   "version": "3.10.12"
  },
  "orig_nbformat": 4
 },
 "nbformat": 4,
 "nbformat_minor": 2
}
