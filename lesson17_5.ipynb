{
 "cells": [
  {
   "cell_type": "code",
   "execution_count": 2,
   "metadata": {},
   "outputs": [
    {
     "data": {
      "text/plain": [
       "0      94\n",
       "1      51\n",
       "2      77\n",
       "3      73\n",
       "4      64\n",
       "5      96\n",
       "6      68\n",
       "7      51\n",
       "8     100\n",
       "9      51\n",
       "10     76\n",
       "11     87\n",
       "12     91\n",
       "13     75\n",
       "14    100\n",
       "15     68\n",
       "16     67\n",
       "17     82\n",
       "18     50\n",
       "19     68\n",
       "20     66\n",
       "21     69\n",
       "22     53\n",
       "23    100\n",
       "24     52\n",
       "25     77\n",
       "26     93\n",
       "27     51\n",
       "28     61\n",
       "29     94\n",
       "30     55\n",
       "31     79\n",
       "32     99\n",
       "33    100\n",
       "34     58\n",
       "35     60\n",
       "36     62\n",
       "37     90\n",
       "38     67\n",
       "39     57\n",
       "40     76\n",
       "41     92\n",
       "42     65\n",
       "43     69\n",
       "44     71\n",
       "45     76\n",
       "46     97\n",
       "47     90\n",
       "48     96\n",
       "49     99\n",
       "Name: 國文, dtype: int64"
      ]
     },
     "execution_count": 2,
     "metadata": {},
     "output_type": "execute_result"
    }
   ],
   "source": [
    "import pandas as pd\n",
    "df = pd.read_csv('學生成績.csv')\n",
    "\n",
    "#使用subscript搜尋Series value\n",
    "chinese_s = df[\"國文\"]\n",
    "chinese_s"
   ]
  },
  {
   "cell_type": "code",
   "execution_count": 3,
   "metadata": {},
   "outputs": [
    {
     "data": {
      "text/plain": [
       "0      94\n",
       "2      77\n",
       "3      73\n",
       "4      64\n",
       "5      96\n",
       "6      68\n",
       "8     100\n",
       "10     76\n",
       "11     87\n",
       "12     91\n",
       "13     75\n",
       "14    100\n",
       "15     68\n",
       "16     67\n",
       "17     82\n",
       "19     68\n",
       "20     66\n",
       "21     69\n",
       "23    100\n",
       "25     77\n",
       "26     93\n",
       "28     61\n",
       "29     94\n",
       "31     79\n",
       "32     99\n",
       "33    100\n",
       "35     60\n",
       "36     62\n",
       "37     90\n",
       "38     67\n",
       "40     76\n",
       "41     92\n",
       "42     65\n",
       "43     69\n",
       "44     71\n",
       "45     76\n",
       "46     97\n",
       "47     90\n",
       "48     96\n",
       "49     99\n",
       "Name: 國文, dtype: int64"
      ]
     },
     "execution_count": 3,
     "metadata": {},
     "output_type": "execute_result"
    }
   ],
   "source": [
    "#國文及格的\n",
    "chinese_s[chinese_s >= 60]"
   ]
  },
  {
   "cell_type": "code",
   "execution_count": 4,
   "metadata": {},
   "outputs": [
    {
     "data": {
      "text/plain": [
       "0     51\n",
       "1     59\n",
       "7     52\n",
       "13    59\n",
       "18    59\n",
       "19    56\n",
       "28    59\n",
       "33    55\n",
       "37    59\n",
       "43    50\n",
       "Name: 數學, dtype: int64"
      ]
     },
     "execution_count": 4,
     "metadata": {},
     "output_type": "execute_result"
    }
   ],
   "source": [
    "#數學及格的\n",
    "math_s = df[\"數學\"]\n",
    "math_s[math_s < 60]"
   ]
  },
  {
   "cell_type": "code",
   "execution_count": null,
   "metadata": {},
   "outputs": [],
   "source": []
  }
 ],
 "metadata": {
  "kernelspec": {
   "display_name": "Python 3",
   "language": "python",
   "name": "python3"
  },
  "language_info": {
   "codemirror_mode": {
    "name": "ipython",
    "version": 3
   },
   "file_extension": ".py",
   "mimetype": "text/x-python",
   "name": "python",
   "nbconvert_exporter": "python",
   "pygments_lexer": "ipython3",
   "version": "3.10.12"
  },
  "orig_nbformat": 4
 },
 "nbformat": 4,
 "nbformat_minor": 2
}
