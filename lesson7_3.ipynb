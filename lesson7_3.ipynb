{
 "cells": [
  {
   "cell_type": "code",
   "execution_count": null,
   "metadata": {},
   "outputs": [],
   "source": [
    "#字串是串列資料\n",
    "\n",
    "for word in \"abcdefghijklmnopqrst\""
   ]
  },
  {
   "cell_type": "code",
   "execution_count": 1,
   "metadata": {},
   "outputs": [
    {
     "name": "stdout",
     "output_type": "stream",
     "text": [
      "Dear Alice,Eve's cat has been arrested for catnapping,\n",
      "\n",
      "cat burglary,and extortion.\n",
      "\n",
      "Sincerely,Bob\n"
     ]
    }
   ],
   "source": [
    "#多行文字\n",
    "senten2='''Dear Alice,Eve's cat has been arrested for catnapping,\n",
    "\n",
    "cat burglary,and extortion.\n",
    "\n",
    "Sincerely,Bob'''\n",
    "\n",
    "print(senten2)"
   ]
  },
  {
   "cell_type": "code",
   "execution_count": 2,
   "metadata": {},
   "outputs": [],
   "source": [
    "#多行文字<當作function的說明\n",
    "def add(first:int,second:int)->int:\n",
    "    '''\n",
    "    加總的運算\n",
    "\n",
    "    2個參數的相加\n",
    "    '''\n",
    "    return first+second"
   ]
  },
  {
   "cell_type": "code",
   "execution_count": 3,
   "metadata": {},
   "outputs": [
    {
     "name": "stdout",
     "output_type": "stream",
     "text": [
      "Help on function add in module __main__:\n",
      "\n",
      "add(first: int, second: int) -> int\n",
      "    加總的運算\n",
      "    \n",
      "    2個參數的相加\n",
      "\n"
     ]
    }
   ],
   "source": [
    "help(add)"
   ]
  },
  {
   "cell_type": "code",
   "execution_count": 4,
   "metadata": {},
   "outputs": [
    {
     "name": "stdout",
     "output_type": "stream",
     "text": [
      "a\n",
      "z\n"
     ]
    }
   ],
   "source": [
    "#字串的index\n",
    "letters=\"abcdefghijklmnopqrstuvwxyz\"\n",
    "\n",
    "#subscript\n",
    "print(letters[0])\n",
    "print(letters[len(letters)-1])"
   ]
  },
  {
   "cell_type": "code",
   "execution_count": null,
   "metadata": {},
   "outputs": [],
   "source": [
    "#字串的切割[n:m]\n",
    "greeting=\"Hello Word\"\n",
    "print(greeting[0])\n",
    "print(greeting[-1])\n",
    "print(greeting[1:8])\n",
    "print(greeting[0:5])\n",
    "print(greeting[:5])#前5個\n",
    "print(greeting[-5:-1])\n",
    "print(greeting[-5:])#後5個\n"
   ]
  }
 ],
 "metadata": {
  "kernelspec": {
   "display_name": "Python 3",
   "language": "python",
   "name": "python3"
  },
  "language_info": {
   "codemirror_mode": {
    "name": "ipython",
    "version": 3
   },
   "file_extension": ".py",
   "mimetype": "text/x-python",
   "name": "python",
   "nbconvert_exporter": "python",
   "pygments_lexer": "ipython3",
   "version": "3.10.12"
  },
  "orig_nbformat": 4
 },
 "nbformat": 4,
 "nbformat_minor": 2
}
