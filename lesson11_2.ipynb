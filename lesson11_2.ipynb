{
 "cells": [
  {
   "cell_type": "code",
   "execution_count": null,
   "metadata": {},
   "outputs": [],
   "source": [
    "import random\n",
    "def get_score()->list:''\n",
    "\n",
    "def get_names(num:int)->list:''\n",
    "\n",
    "nums_int=int(input(\"請輸入學生數:\"))\n",
    "\n",
    "names_list=get_names(nums_int)\n",
    "students=[]\n",
    "for i in range(nums_int):\n",
    "    score=get_score"
   ]
  }
 ],
 "metadata": {
  "language_info": {
   "name": "python"
  },
  "orig_nbformat": 4
 },
 "nbformat": 4,
 "nbformat_minor": 2
}
