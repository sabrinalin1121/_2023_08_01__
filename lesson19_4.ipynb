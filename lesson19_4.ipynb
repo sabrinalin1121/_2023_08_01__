{
 "cells": [
  {
   "cell_type": "code",
   "execution_count": 2,
   "metadata": {},
   "outputs": [
    {
     "ename": "ModuleNotFoundError",
     "evalue": "No module named 'requests'",
     "output_type": "error",
     "traceback": [
      "\u001b[0;31m---------------------------------------------------------------------------\u001b[0m",
      "\u001b[0;31mModuleNotFoundError\u001b[0m                       Traceback (most recent call last)",
      "\u001b[1;32m/workspaces/_2023_08_01__/lesson19_4.ipynb 儲存格 1\u001b[0m line \u001b[0;36m1\n\u001b[0;32m----> <a href='vscode-notebook-cell://codespaces%2Bsabrinalin1121-automatic-space-spork-r4grjvgv65w9hx5xq/workspaces/_2023_08_01__/lesson19_4.ipynb#W0sdnNjb2RlLXJlbW90ZQ%3D%3D?line=0'>1</a>\u001b[0m \u001b[39mimport\u001b[39;00m \u001b[39mrequests\u001b[39;00m\n\u001b[1;32m      <a href='vscode-notebook-cell://codespaces%2Bsabrinalin1121-automatic-space-spork-r4grjvgv65w9hx5xq/workspaces/_2023_08_01__/lesson19_4.ipynb#W0sdnNjb2RlLXJlbW90ZQ%3D%3D?line=1'>2</a>\u001b[0m url \u001b[39m=\u001b[39m \u001b[39m'\u001b[39m\u001b[39mhttps://sheethub.com/data.gov.tw/\u001b[39m\u001b[39m%E\u001b[39;00m\u001b[39m5\u001b[39m\u001b[39m%90%\u001b[39;00m\u001b[39m84\u001b[39m\u001b[39m%E\u001b[39;00m\u001b[39m9\u001b[39m\u001b[39m%84%\u001b[39;00m\u001b[39m89\u001b[39m\u001b[39m%E\u001b[39;00m\u001b[39m9\u001b[39m\u001b[39m%8E\u001b[39;00m\u001b[39m%\u001b[39m\u001b[39mAE\u001b[39m\u001b[39m%E\u001b[39;00m\u001b[39m5\u001b[39m\u001b[39m%\u001b[39m\u001b[39mB8\u001b[39m\u001b[39m%82%\u001b[39;00m\u001b[39mE5\u001b[39m\u001b[39m%\u001b[39m\u001b[39m8D\u001b[39m\u001b[39m%80%\u001b[39;00m\u001b[39mE4\u001b[39m\u001b[39m%\u001b[39m\u001b[39mBA\u001b[39m\u001b[39m%\u001b[39m\u001b[39mBA\u001b[39m\u001b[39m%E\u001b[39;00m\u001b[39m5\u001b[39m\u001b[39m%8F\u001b[39;00m\u001b[39m%\u001b[39m\u001b[39mA3\u001b[39m\u001b[39m%E\u001b[39;00m\u001b[39m5\u001b[39m\u001b[39m%\u001b[39m\u001b[39mAF\u001b[39m\u001b[39m%86%\u001b[39;00m\u001b[39mE5\u001b[39m\u001b[39m%\u001b[39m\u001b[39mBA\u001b[39m\u001b[39m%\u001b[39m\u001b[39mA6?format=csv\u001b[39m\u001b[39m'\u001b[39m\n\u001b[1;32m      <a href='vscode-notebook-cell://codespaces%2Bsabrinalin1121-automatic-space-spork-r4grjvgv65w9hx5xq/workspaces/_2023_08_01__/lesson19_4.ipynb#W0sdnNjb2RlLXJlbW90ZQ%3D%3D?line=3'>4</a>\u001b[0m response \u001b[39m=\u001b[39m requests\u001b[39m.\u001b[39mrequest(\u001b[39m'\u001b[39m\u001b[39mGET\u001b[39m\u001b[39m'\u001b[39m,url)\n",
      "\u001b[0;31mModuleNotFoundError\u001b[0m: No module named 'requests'"
     ]
    }
   ],
   "source": [
    "import requests\n",
    "url = 'https://sheethub.com/data.gov.tw/%E5%90%84%E9%84%89%E9%8E%AE%E5%B8%82%E5%8D%80%E4%BA%BA%E5%8F%A3%E5%AF%86%E5%BA%A6?format=csv'\n",
    "\n",
    "response = requests.request('GET',url)\n",
    "if response.ok:\n",
    "    print(\"下載成功\")"
   ]
  },
  {
   "cell_type": "code",
   "execution_count": null,
   "metadata": {},
   "outputs": [],
   "source": [
    "from io import StringIO\n",
    "import csv\n",
    "\n",
    "file = StringIO(response.text)\n",
    "csv_reader = csv.reader(file)\n",
    "data = list(csv_reader)\n",
    "data"
   ]
  },
  {
   "cell_type": "code",
   "execution_count": null,
   "metadata": {},
   "outputs": [],
   "source": [
    "frame.columns = frame.iloc[0]\n",
    "frame1 = frame.drop(index=0)\n",
    "frame1"
   ]
  },
  {
   "cell_type": "code",
   "execution_count": null,
   "metadata": {},
   "outputs": [],
   "source": [
    "\n",
    "frame1.info()"
   ]
  },
  {
   "cell_type": "code",
   "execution_count": null,
   "metadata": {},
   "outputs": [],
   "source": [
    "\n",
    "frame1['區域別']"
   ]
  },
  {
   "cell_type": "code",
   "execution_count": null,
   "metadata": {},
   "outputs": [],
   "source": [
    "for item in frame1['區域別']:\n",
    "    print(f'台灣-{item}')"
   ]
  },
  {
   "cell_type": "code",
   "execution_count": null,
   "metadata": {},
   "outputs": [],
   "source": [
    "def abc(v):\n",
    "    return f'台灣-{v}'\n",
    "\n",
    "frame1['區域別'].map(abc)"
   ]
  },
  {
   "cell_type": "code",
   "execution_count": null,
   "metadata": {},
   "outputs": [],
   "source": [
    "frame1"
   ]
  },
  {
   "cell_type": "code",
   "execution_count": null,
   "metadata": {},
   "outputs": [],
   "source": [
    "def to_int(v):\n",
    "    if v == '…':\n",
    "        return 0\n",
    "    return int(v)\n",
    "\n",
    "frame1['年底人口數'] = frame1['年底人口數'].map(to_int)"
   ]
  },
  {
   "cell_type": "code",
   "execution_count": null,
   "metadata": {},
   "outputs": [],
   "source": [
    "\n",
    "def fun1(v):\n",
    "    return f'{v:,}'\n",
    "frame1['年底人口數'] = frame1['年底人口數'].map(fun1)"
   ]
  },
  {
   "cell_type": "code",
   "execution_count": null,
   "metadata": {},
   "outputs": [],
   "source": [
    "def fun2(v):\n",
    "    if v == '…':\n",
    "        v = 0\n",
    "    else:\n",
    "        v = int(v)\n",
    "    return f'{v:,}'\n",
    "frame1['人口密度'] = frame1['人口密度'].map(fun2)"
   ]
  },
  {
   "cell_type": "code",
   "execution_count": null,
   "metadata": {},
   "outputs": [],
   "source": [
    "frame1"
   ]
  },
  {
   "cell_type": "code",
   "execution_count": null,
   "metadata": {},
   "outputs": [],
   "source": []
  }
 ],
 "metadata": {
  "kernelspec": {
   "display_name": "Python 3",
   "language": "python",
   "name": "python3"
  },
  "language_info": {
   "codemirror_mode": {
    "name": "ipython",
    "version": 3
   },
   "file_extension": ".py",
   "mimetype": "text/x-python",
   "name": "python",
   "nbconvert_exporter": "python",
   "pygments_lexer": "ipython3",
   "version": "3.10.12"
  },
  "orig_nbformat": 4
 },
 "nbformat": 4,
 "nbformat_minor": 2
}
