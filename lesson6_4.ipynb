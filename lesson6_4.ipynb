{
 "cells": [
  {
   "cell_type": "code",
   "execution_count": null,
   "metadata": {},
   "outputs": [],
   "source": [
    "import random\n",
    "min=1\n",
    "max=100\n",
    "target=random.randint(1,10)\n",
    "count=0\n",
    "print(\"=====猜數字遊戲=====\\n\\n\")\n",
    "while True:\n",
    "    keyin=int(input(f\"猜數字的範圍{min}~{max}\"))\n",
    "    count+=1\n",
    "    if keyin>=min and keyin<=max:\n",
    "        if(keyin==target):\n",
    "            print(f\"賓果!猜對了，答案是:{keyin}\")\n",
    "            print(f\"您總共猜了{count}\")\n",
    "            break\n",
    "        elif(keyin>target):\n",
    "            print(\"在小一點\")\n",
    "            max=keyin-1\n",
    "\n",
    "        elif(keyin<target):\n",
    "            print(\"在大一點\")\n",
    "            max=keyin+1\n",
    "            \n",
    "            print(f\"您已經猜了{count}次\")\n",
    "    else:\n",
    "        print(\"超出範圍\")\n",
    "print(\"GAME OVER\")"
   ]
  },
  {
   "cell_type": "code",
   "execution_count": 12,
   "metadata": {},
   "outputs": [
    {
     "ename": "NameError",
     "evalue": "name 'random' is not defined",
     "output_type": "error",
     "traceback": [
      "\u001b[0;31m---------------------------------------------------------------------------\u001b[0m",
      "\u001b[0;31mNameError\u001b[0m                                 Traceback (most recent call last)",
      "Cell \u001b[0;32mIn[12], line 4\u001b[0m\n\u001b[1;32m      2\u001b[0m \u001b[39mmin\u001b[39m\u001b[39m=\u001b[39m\u001b[39m1\u001b[39m\n\u001b[1;32m      3\u001b[0m \u001b[39mmax\u001b[39m\u001b[39m=\u001b[39m\u001b[39m100\u001b[39m\n\u001b[0;32m----> 4\u001b[0m target\u001b[39m=\u001b[39mrandom\u001b[39m.\u001b[39mrandint(\u001b[39mmin\u001b[39m,\u001b[39mmax\u001b[39m)\n\u001b[1;32m      5\u001b[0m \u001b[39mprint\u001b[39m(target)\n\u001b[1;32m      6\u001b[0m count\u001b[39m=\u001b[39m\u001b[39m0\u001b[39m\n",
      "\u001b[0;31mNameError\u001b[0m: name 'random' is not defined"
     ]
    }
   ],
   "source": [
    "\n",
    "while True:\n",
    "   min=1\n",
    "   max=100\n",
    "   target=random.randint(min,max)\n",
    "   print(target)\n",
    "   count=0\n",
    "   print(\"=====猜數字遊戲=====\\n\\n\")\n",
    "   keyin=int(input(f\"猜數字的範圍{min}~{max}:\"))\n",
    "   count+=1\n",
    "   if keyin>=min and keyin<=max:\n",
    "            if(keyin==target):\n",
    "                print(f\"賓果!猜對了，答案是:{keyin}\")\n",
    "                print(f\"您總共猜了{count}\")\n",
    "                break\n",
    "            elif(keyin>target):\n",
    "                print(\"在小一點\")\n",
    "                max=keyin-1\n",
    "\n",
    "            elif(keyin<target):\n",
    "                print(\"在大一點\")\n",
    "                max=keyin+1\n",
    "            \n",
    "            print(f\"您已經猜了{count}次\")\n",
    "   else:\n",
    "            print(\"超出範圍\")\n",
    "   play_again=input(\"您還要繼續嗎?(y or n):\")\n",
    "   if play_again==\"n\":\n",
    "    break\n",
    "   else:\n",
    "      continue\n",
    "\n",
    "print(\"遊戲結束\")\n"
   ]
  },
  {
   "cell_type": "code",
   "execution_count": null,
   "metadata": {},
   "outputs": [],
   "source": [
    "import random\n",
    "\n",
    "#自訂的function\n",
    "def play_again():\n",
    "\n",
    " while True:\n",
    "    play_again()#呼叫function\n",
    "    if play_again==\"n\":\n",
    "      break\n",
    "    else:\n",
    "      continue\n",
    "\n",
    "print(\"遊戲結束\")"
   ]
  }
 ],
 "metadata": {
  "kernelspec": {
   "display_name": "Python 3",
   "language": "python",
   "name": "python3"
  },
  "language_info": {
   "codemirror_mode": {
    "name": "ipython",
    "version": 3
   },
   "file_extension": ".py",
   "mimetype": "text/x-python",
   "name": "python",
   "nbconvert_exporter": "python",
   "pygments_lexer": "ipython3",
   "version": "3.10.12"
  },
  "orig_nbformat": 4
 },
 "nbformat": 4,
 "nbformat_minor": 2
}
