{
 "cells": [
  {
   "cell_type": "code",
   "execution_count": 1,
   "metadata": {},
   "outputs": [
    {
     "data": {
      "text/plain": [
       "2"
      ]
     },
     "execution_count": 1,
     "metadata": {},
     "output_type": "execute_result"
    }
   ],
   "source": [
    "import random\n",
    "#0~4的亂數\n",
    "random.randrange(5)\n"
   ]
  },
  {
   "cell_type": "code",
   "execution_count": 2,
   "metadata": {},
   "outputs": [
    {
     "data": {
      "text/plain": [
       "3"
      ]
     },
     "execution_count": 2,
     "metadata": {},
     "output_type": "execute_result"
    }
   ],
   "source": [
    "random.randrange(3,5)"
   ]
  },
  {
   "cell_type": "code",
   "execution_count": 3,
   "metadata": {},
   "outputs": [
    {
     "data": {
      "text/plain": [
       "2"
      ]
     },
     "execution_count": 3,
     "metadata": {},
     "output_type": "execute_result"
    }
   ],
   "source": [
    "random.randint(1,10)"
   ]
  },
  {
   "cell_type": "code",
   "execution_count": 9,
   "metadata": {},
   "outputs": [
    {
     "name": "stdout",
     "output_type": "stream",
     "text": [
      "=====猜數字遊戲=====\n",
      "\n",
      "\n",
      "在大一點\n",
      "您已經猜了1次\n",
      "在大一點\n",
      "您已經猜了2次\n",
      "超出範圍\n",
      "在大一點\n",
      "您已經猜了4次\n",
      "在大一點\n",
      "您已經猜了5次\n",
      "超出範圍\n",
      "在大一點\n",
      "您已經猜了7次\n",
      "超出範圍\n",
      "超出範圍\n",
      "超出範圍\n",
      "超出範圍\n",
      "在大一點\n",
      "您已經猜了12次\n",
      "在大一點\n",
      "您已經猜了13次\n",
      "超出範圍\n",
      "超出範圍\n",
      "超出範圍\n",
      "在大一點\n",
      "您已經猜了17次\n",
      "在大一點\n",
      "您已經猜了18次\n",
      "在大一點\n",
      "您已經猜了19次\n",
      "在大一點\n",
      "您已經猜了20次\n",
      "賓果!猜對了，答案是:8\n",
      "您總共猜了21\n",
      "GAME OVER\n"
     ]
    }
   ],
   "source": [
    "import random\n",
    "min=1\n",
    "max=100\n",
    "target=random.randint(1,10)\n",
    "count=0\n",
    "print(\"=====猜數字遊戲=====\\n\\n\")\n",
    "while True:\n",
    "    keyin=int(input(f\"猜數字的範圍{min}~{max}\"))\n",
    "    count+=1\n",
    "    if keyin>=min and keyin<=max:\n",
    "        if(keyin==target):\n",
    "            print(f\"賓果!猜對了，答案是:{keyin}\")\n",
    "            print(f\"您總共猜了{count}\")\n",
    "            break\n",
    "        elif(keyin>target):\n",
    "            print(\"在小一點\")\n",
    "            max=keyin-1\n",
    "\n",
    "        elif(keyin<target):\n",
    "            print(\"在大一點\")\n",
    "            max=keyin+1\n",
    "            \n",
    "            print(f\"您已經猜了{count}次\")\n",
    "    else:\n",
    "        print(\"超出範圍\")\n",
    "print(\"GAME OVER\")"
   ]
  }
 ],
 "metadata": {
  "kernelspec": {
   "display_name": "Python 3",
   "language": "python",
   "name": "python3"
  },
  "language_info": {
   "codemirror_mode": {
    "name": "ipython",
    "version": 3
   },
   "file_extension": ".py",
   "mimetype": "text/x-python",
   "name": "python",
   "nbconvert_exporter": "python",
   "pygments_lexer": "ipython3",
   "version": "3.10.12"
  },
  "orig_nbformat": 4
 },
 "nbformat": 4,
 "nbformat_minor": 2
}
