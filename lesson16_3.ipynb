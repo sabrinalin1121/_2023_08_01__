{
 "cells": [
  {
   "cell_type": "code",
   "execution_count": null,
   "metadata": {},
   "outputs": [],
   "source": [
    "#DataFrame\n",
    "#dictionary\n",
    "import pandas as pd\n",
    "data = {\n",
    "    '縣市':['台北','台北','台北', '新竹', '新竹', '新竹'],\n",
    "    '年份':[2000, 2001, 2002, 2001, 2002, 2003],\n",
    "    '人口':[2.2, 2.5, 2.7, 1.1, 1.5, 2.0]\n",
    "}\n",
    "\n",
    "frame = pd.DataFrame(data)\n",
    "frame"
   ]
  },
  {
   "cell_type": "code",
   "execution_count": null,
   "metadata": {},
   "outputs": [],
   "source": [
    "#DataFrame\n",
    "#List\n",
    "\n",
    "data = [\n",
    "    {'縣市':'台北','年份':2000,'人口':2.0},\n",
    "    {'縣市':'台北','年份':2001,'人口':2.5},\n",
    "    {'縣市':'台北','年份':2002,'人口':2.7},\n",
    "    {'縣市':'新竹','年份':2001,'人口':1.1},\n",
    "    {'縣市':'新竹','年份':2002,'人口':1.5},\n",
    "    {'縣市':'新竹','年份':2003,'人口':2.0}\n",
    "]\n",
    "\n",
    "frame1 = pd.DataFrame(data)\n",
    "frame1"
   ]
  }
 ],
 "metadata": {
  "language_info": {
   "name": "python"
  },
  "orig_nbformat": 4
 },
 "nbformat": 4,
 "nbformat_minor": 2
}
