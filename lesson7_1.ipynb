{
 "cells": [
  {
   "cell_type": "code",
   "execution_count": 1,
   "metadata": {},
   "outputs": [
    {
     "name": "stdout",
     "output_type": "stream",
     "text": [
      "quack\n"
     ]
    }
   ],
   "source": [
    "#沒有參數，沒有傳出值的function\n",
    "def Make_a_sound():\n",
    "    print(\"quack\")\n",
    "\n",
    "Make_a_sound()"
   ]
  },
  {
   "cell_type": "code",
   "execution_count": 4,
   "metadata": {},
   "outputs": [
    {
     "name": "stdout",
     "output_type": "stream",
     "text": [
      "3+8=11\n",
      "3*8=11\n"
     ]
    }
   ],
   "source": [
    "def add(first,second):\n",
    "    print(f\"{first}+{second}={first+second}\")\n",
    "\n",
    "def multiple(first,second):\n",
    "     print(f\"{first}*{second}={first+second}\")\n",
    "\n",
    "add(3,8)\n",
    "multiple(3,8)"
   ]
  },
  {
   "cell_type": "code",
   "execution_count": 5,
   "metadata": {},
   "outputs": [
    {
     "name": "stdout",
     "output_type": "stream",
     "text": [
      "3+8=11\n",
      "3*8=11\n"
     ]
    }
   ],
   "source": [
    "#引述名稱的呼叫，可以不依順序\n",
    "add(first=3,second=8)\n",
    "multiple(second=8,first=3)#使用引述名稱呼叫，後面就不可以引述直呼叫\n",
    "\n"
   ]
  },
  {
   "cell_type": "code",
   "execution_count": 6,
   "metadata": {},
   "outputs": [
    {
     "name": "stdout",
     "output_type": "stream",
     "text": [
      "3+8=11\n",
      "3*8=11\n"
     ]
    }
   ],
   "source": [
    "#混和呼叫，前面用引述直呼叫，後面用引述名稱呼叫\n",
    "add(3,second=8)\n",
    "multiple(3,second=8)"
   ]
  }
 ],
 "metadata": {
  "kernelspec": {
   "display_name": "Python 3",
   "language": "python",
   "name": "python3"
  },
  "language_info": {
   "codemirror_mode": {
    "name": "ipython",
    "version": 3
   },
   "file_extension": ".py",
   "mimetype": "text/x-python",
   "name": "python",
   "nbconvert_exporter": "python",
   "pygments_lexer": "ipython3",
   "version": "3.10.12"
  },
  "orig_nbformat": 4
 },
 "nbformat": 4,
 "nbformat_minor": 2
}
